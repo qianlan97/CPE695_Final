{
 "cells": [
  {
   "cell_type": "code",
   "execution_count": 31,
   "id": "29ec74f8",
   "metadata": {},
   "outputs": [
    {
     "name": "stdout",
     "output_type": "stream",
     "text": [
      "[10919.  9265.  5534. ...  3828.  8913. 10963.]\n"
     ]
    }
   ],
   "source": [
    "import pandas as pd\n",
    "import numpy as np\n",
    "from sklearn.model_selection import train_test_split\n",
    "\n",
    "###raw_data = pd.read_csv(\"Fully_Encoded.csv\")\n",
    "data=pd.read_csv(\"Fully_Encoded.csv\")\n",
    "\n",
    "X = data[['Name', 'Platform', 'Year_of_Release','Genre','Publisher','Critic_Score','User_Score','User_Count','Developer','Rating']].values \n",
    "\n",
    "#X = data[['Platform','Global_Sales']].values \n",
    "y = data[['NA_Sales','JP_Sales', 'Other_Sales','EU_Sales', 'Global_Sales']].values\n",
    "\n",
    "print(X[:,0])"
   ]
  },
  {
   "cell_type": "code",
   "execution_count": 32,
   "id": "1d07eec9",
   "metadata": {},
   "outputs": [],
   "source": [
    "x_train, x_test, y_train, y_test = train_test_split(X, y, test_size=0.20, random_state=10)\n",
    "\n",
    "y_train_NA = y_train[:,0]\n",
    "y_train_JP = y_train[:,1]\n",
    "y_train_Other = y_train[:,2]\n",
    "y_train_EU = y_train[:,3]\n",
    "y_train_Global = y_train[:,4]\n",
    "\n",
    "y_test_NA = y_test[:,0]\n",
    "y_test_JP = y_test[:,1]\n",
    "y_test_Other = y_test[:,2]\n",
    "y_test_EU = y_test[:,3]\n",
    "y_test_Global = y_test[:,4]\n",
    "\n"
   ]
  },
  {
   "cell_type": "code",
   "execution_count": 33,
   "id": "b9a84d06",
   "metadata": {},
   "outputs": [],
   "source": [
    "import pandas as pd\n",
    "from sklearn import svm\n",
    "from sklearn.metrics import mean_squared_error\n",
    "RegModel = svm.SVR(C=4, kernel='rbf')"
   ]
  },
  {
   "cell_type": "markdown",
   "id": "904ff74e",
   "metadata": {},
   "source": [
    "#### Global Sales"
   ]
  },
  {
   "cell_type": "code",
   "execution_count": 34,
   "id": "d1cfe73f",
   "metadata": {},
   "outputs": [],
   "source": [
    "SVM=RegModel.fit(x_train, y_train_Global)\n",
    "prediction_Global=SVM.predict(x_test)\n",
    "Global_error = mean_squared_error(y_test_Global,prediction_Global)"
   ]
  },
  {
   "cell_type": "markdown",
   "id": "1431e322",
   "metadata": {},
   "source": [
    "#### NorthAmerican sales "
   ]
  },
  {
   "cell_type": "code",
   "execution_count": 5,
   "id": "da9bd311",
   "metadata": {},
   "outputs": [],
   "source": [
    "SVM=RegModel.fit(x_train, y_train_NA)\n",
    "prediction_NA=SVM.predict(x_test)\n",
    "NA_error = mean_squared_error(y_test_NA,prediction_NA)\n"
   ]
  },
  {
   "cell_type": "markdown",
   "id": "5ba002e3",
   "metadata": {},
   "source": [
    "#### Japan sales"
   ]
  },
  {
   "cell_type": "code",
   "execution_count": 6,
   "id": "662973fb",
   "metadata": {},
   "outputs": [],
   "source": [
    "SVM=RegModel.fit(x_train, y_train_JP)\n",
    "prediction_JP=SVM.predict(x_test)\n",
    "JP_error = mean_squared_error(y_test_JP,prediction_JP)"
   ]
  },
  {
   "cell_type": "markdown",
   "id": "744c2559",
   "metadata": {},
   "source": [
    "#### Other sales"
   ]
  },
  {
   "cell_type": "code",
   "execution_count": 7,
   "id": "5d319226",
   "metadata": {},
   "outputs": [],
   "source": [
    "SVM=RegModel.fit(x_train, y_train_Other)\n",
    "prediction_Other=SVM.predict(x_test)\n",
    "Other_error = mean_squared_error(y_test_Other,prediction_Other)"
   ]
  },
  {
   "cell_type": "markdown",
   "id": "975c9d8a",
   "metadata": {},
   "source": [
    "#### Europe sales"
   ]
  },
  {
   "cell_type": "code",
   "execution_count": 8,
   "id": "bd9797d2",
   "metadata": {},
   "outputs": [],
   "source": [
    "SVM=RegModel.fit(x_train, y_train_EU)\n",
    "prediction_EU=SVM.predict(x_test)\n",
    "EU_error = mean_squared_error(y_test_EU,prediction_EU)"
   ]
  },
  {
   "cell_type": "code",
   "execution_count": 36,
   "id": "d6165807",
   "metadata": {},
   "outputs": [
    {
     "name": "stdout",
     "output_type": "stream",
     "text": [
      "1.0162282175280806\n",
      "0.08393956150998029\n",
      "0.045760185790821015\n",
      "0.39994971478230024\n",
      "3.5116429918689107\n"
     ]
    }
   ],
   "source": [
    "print(NA_error)\n",
    "print(JP_error)\n",
    "print(Other_error)\n",
    "print(EU_error)\n",
    "print(Global_error)"
   ]
  },
  {
   "cell_type": "code",
   "execution_count": null,
   "id": "a142f5b4",
   "metadata": {},
   "outputs": [],
   "source": []
  }
 ],
 "metadata": {
  "kernelspec": {
   "display_name": "Python 3 (ipykernel)",
   "language": "python",
   "name": "python3"
  },
  "language_info": {
   "codemirror_mode": {
    "name": "ipython",
    "version": 3
   },
   "file_extension": ".py",
   "mimetype": "text/x-python",
   "name": "python",
   "nbconvert_exporter": "python",
   "pygments_lexer": "ipython3",
   "version": "3.9.13"
  }
 },
 "nbformat": 4,
 "nbformat_minor": 5
}
