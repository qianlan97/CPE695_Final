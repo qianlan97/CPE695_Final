{
 "cells": [
  {
   "cell_type": "markdown",
   "id": "b4289918",
   "metadata": {},
   "source": [
    "## Random Forest "
   ]
  },
  {
   "cell_type": "code",
   "execution_count": 36,
   "id": "408c793a",
   "metadata": {},
   "outputs": [],
   "source": [
    "import pandas as pd\n",
    "import numpy as np\n",
    "from sklearn.model_selection import train_test_split\n",
    "from sklearn import tree\n",
    "from sklearn.model_selection import GridSearchCV\n",
    "from sklearn.ensemble import RandomForestClassifier\n",
    "from sklearn.metrics import confusion_matrix\n",
    "import seaborn as sns\n",
    "\n",
    "data = pd.read_csv(\"Fully_Encoded.csv\", header=0)\n"
   ]
  },
  {
   "cell_type": "code",
   "execution_count": 37,
   "id": "bb3c1d19",
   "metadata": {},
   "outputs": [
    {
     "data": {
      "text/html": [
       "<div>\n",
       "<style scoped>\n",
       "    .dataframe tbody tr th:only-of-type {\n",
       "        vertical-align: middle;\n",
       "    }\n",
       "\n",
       "    .dataframe tbody tr th {\n",
       "        vertical-align: top;\n",
       "    }\n",
       "\n",
       "    .dataframe thead th {\n",
       "        text-align: right;\n",
       "    }\n",
       "</style>\n",
       "<table border=\"1\" class=\"dataframe\">\n",
       "  <thead>\n",
       "    <tr style=\"text-align: right;\">\n",
       "      <th></th>\n",
       "      <th>Name</th>\n",
       "      <th>Platform</th>\n",
       "      <th>Year_of_Release</th>\n",
       "      <th>Genre</th>\n",
       "      <th>Publisher</th>\n",
       "      <th>NA_Sales</th>\n",
       "      <th>EU_Sales</th>\n",
       "      <th>JP_Sales</th>\n",
       "      <th>Other_Sales</th>\n",
       "      <th>Global_Sales</th>\n",
       "      <th>Critic_Score</th>\n",
       "      <th>Critic_Count</th>\n",
       "      <th>User_Score</th>\n",
       "      <th>User_Count</th>\n",
       "      <th>Developer</th>\n",
       "      <th>Rating</th>\n",
       "    </tr>\n",
       "  </thead>\n",
       "  <tbody>\n",
       "    <tr>\n",
       "      <th>0</th>\n",
       "      <td>10919.0</td>\n",
       "      <td>26.0</td>\n",
       "      <td>2006.0</td>\n",
       "      <td>10.0</td>\n",
       "      <td>361.0</td>\n",
       "      <td>41.36</td>\n",
       "      <td>28.96</td>\n",
       "      <td>3.77</td>\n",
       "      <td>8.45</td>\n",
       "      <td>82.53</td>\n",
       "      <td>76.000000</td>\n",
       "      <td>51.000000</td>\n",
       "      <td>77.000000</td>\n",
       "      <td>322.000000</td>\n",
       "      <td>1008.000000</td>\n",
       "      <td>1.000000</td>\n",
       "    </tr>\n",
       "    <tr>\n",
       "      <th>1</th>\n",
       "      <td>9265.0</td>\n",
       "      <td>11.0</td>\n",
       "      <td>1985.0</td>\n",
       "      <td>4.0</td>\n",
       "      <td>361.0</td>\n",
       "      <td>29.08</td>\n",
       "      <td>3.58</td>\n",
       "      <td>6.81</td>\n",
       "      <td>0.77</td>\n",
       "      <td>40.24</td>\n",
       "      <td>68.997119</td>\n",
       "      <td>26.440992</td>\n",
       "      <td>74.727254</td>\n",
       "      <td>163.008846</td>\n",
       "      <td>835.050081</td>\n",
       "      <td>3.558616</td>\n",
       "    </tr>\n",
       "    <tr>\n",
       "      <th>2</th>\n",
       "      <td>5534.0</td>\n",
       "      <td>26.0</td>\n",
       "      <td>2008.0</td>\n",
       "      <td>6.0</td>\n",
       "      <td>361.0</td>\n",
       "      <td>15.68</td>\n",
       "      <td>12.76</td>\n",
       "      <td>3.79</td>\n",
       "      <td>3.29</td>\n",
       "      <td>35.52</td>\n",
       "      <td>82.000000</td>\n",
       "      <td>73.000000</td>\n",
       "      <td>80.000000</td>\n",
       "      <td>709.000000</td>\n",
       "      <td>1008.000000</td>\n",
       "      <td>1.000000</td>\n",
       "    </tr>\n",
       "    <tr>\n",
       "      <th>3</th>\n",
       "      <td>10921.0</td>\n",
       "      <td>26.0</td>\n",
       "      <td>2009.0</td>\n",
       "      <td>10.0</td>\n",
       "      <td>361.0</td>\n",
       "      <td>15.61</td>\n",
       "      <td>10.93</td>\n",
       "      <td>3.28</td>\n",
       "      <td>2.95</td>\n",
       "      <td>32.77</td>\n",
       "      <td>80.000000</td>\n",
       "      <td>73.000000</td>\n",
       "      <td>77.000000</td>\n",
       "      <td>192.000000</td>\n",
       "      <td>1008.000000</td>\n",
       "      <td>1.000000</td>\n",
       "    </tr>\n",
       "    <tr>\n",
       "      <th>4</th>\n",
       "      <td>7294.0</td>\n",
       "      <td>5.0</td>\n",
       "      <td>1996.0</td>\n",
       "      <td>7.0</td>\n",
       "      <td>361.0</td>\n",
       "      <td>11.27</td>\n",
       "      <td>8.89</td>\n",
       "      <td>10.22</td>\n",
       "      <td>1.00</td>\n",
       "      <td>31.37</td>\n",
       "      <td>68.997119</td>\n",
       "      <td>26.440992</td>\n",
       "      <td>74.727254</td>\n",
       "      <td>163.008846</td>\n",
       "      <td>835.050081</td>\n",
       "      <td>3.558616</td>\n",
       "    </tr>\n",
       "    <tr>\n",
       "      <th>5</th>\n",
       "      <td>9646.0</td>\n",
       "      <td>5.0</td>\n",
       "      <td>1989.0</td>\n",
       "      <td>5.0</td>\n",
       "      <td>361.0</td>\n",
       "      <td>23.20</td>\n",
       "      <td>2.26</td>\n",
       "      <td>4.22</td>\n",
       "      <td>0.58</td>\n",
       "      <td>30.26</td>\n",
       "      <td>68.997119</td>\n",
       "      <td>26.440992</td>\n",
       "      <td>74.727254</td>\n",
       "      <td>163.008846</td>\n",
       "      <td>835.050081</td>\n",
       "      <td>3.558616</td>\n",
       "    </tr>\n",
       "    <tr>\n",
       "      <th>6</th>\n",
       "      <td>6677.0</td>\n",
       "      <td>4.0</td>\n",
       "      <td>2006.0</td>\n",
       "      <td>4.0</td>\n",
       "      <td>361.0</td>\n",
       "      <td>11.28</td>\n",
       "      <td>9.14</td>\n",
       "      <td>6.50</td>\n",
       "      <td>2.88</td>\n",
       "      <td>29.80</td>\n",
       "      <td>89.000000</td>\n",
       "      <td>65.000000</td>\n",
       "      <td>82.000000</td>\n",
       "      <td>431.000000</td>\n",
       "      <td>1008.000000</td>\n",
       "      <td>1.000000</td>\n",
       "    </tr>\n",
       "    <tr>\n",
       "      <th>7</th>\n",
       "      <td>10917.0</td>\n",
       "      <td>26.0</td>\n",
       "      <td>2006.0</td>\n",
       "      <td>3.0</td>\n",
       "      <td>361.0</td>\n",
       "      <td>13.96</td>\n",
       "      <td>9.18</td>\n",
       "      <td>2.93</td>\n",
       "      <td>2.84</td>\n",
       "      <td>28.92</td>\n",
       "      <td>58.000000</td>\n",
       "      <td>41.000000</td>\n",
       "      <td>63.000000</td>\n",
       "      <td>129.000000</td>\n",
       "      <td>1008.000000</td>\n",
       "      <td>1.000000</td>\n",
       "    </tr>\n",
       "    <tr>\n",
       "      <th>8</th>\n",
       "      <td>6680.0</td>\n",
       "      <td>26.0</td>\n",
       "      <td>2009.0</td>\n",
       "      <td>4.0</td>\n",
       "      <td>361.0</td>\n",
       "      <td>14.44</td>\n",
       "      <td>6.94</td>\n",
       "      <td>4.70</td>\n",
       "      <td>2.24</td>\n",
       "      <td>28.32</td>\n",
       "      <td>87.000000</td>\n",
       "      <td>80.000000</td>\n",
       "      <td>81.000000</td>\n",
       "      <td>594.000000</td>\n",
       "      <td>1008.000000</td>\n",
       "      <td>1.000000</td>\n",
       "    </tr>\n",
       "    <tr>\n",
       "      <th>9</th>\n",
       "      <td>2566.0</td>\n",
       "      <td>11.0</td>\n",
       "      <td>1984.0</td>\n",
       "      <td>8.0</td>\n",
       "      <td>361.0</td>\n",
       "      <td>26.93</td>\n",
       "      <td>0.63</td>\n",
       "      <td>0.28</td>\n",
       "      <td>0.47</td>\n",
       "      <td>28.31</td>\n",
       "      <td>68.997119</td>\n",
       "      <td>26.440992</td>\n",
       "      <td>74.727254</td>\n",
       "      <td>163.008846</td>\n",
       "      <td>835.050081</td>\n",
       "      <td>3.558616</td>\n",
       "    </tr>\n",
       "  </tbody>\n",
       "</table>\n",
       "</div>"
      ],
      "text/plain": [
       "      Name  Platform  Year_of_Release  Genre  Publisher  NA_Sales  EU_Sales  \\\n",
       "0  10919.0      26.0           2006.0   10.0      361.0     41.36     28.96   \n",
       "1   9265.0      11.0           1985.0    4.0      361.0     29.08      3.58   \n",
       "2   5534.0      26.0           2008.0    6.0      361.0     15.68     12.76   \n",
       "3  10921.0      26.0           2009.0   10.0      361.0     15.61     10.93   \n",
       "4   7294.0       5.0           1996.0    7.0      361.0     11.27      8.89   \n",
       "5   9646.0       5.0           1989.0    5.0      361.0     23.20      2.26   \n",
       "6   6677.0       4.0           2006.0    4.0      361.0     11.28      9.14   \n",
       "7  10917.0      26.0           2006.0    3.0      361.0     13.96      9.18   \n",
       "8   6680.0      26.0           2009.0    4.0      361.0     14.44      6.94   \n",
       "9   2566.0      11.0           1984.0    8.0      361.0     26.93      0.63   \n",
       "\n",
       "   JP_Sales  Other_Sales  Global_Sales  Critic_Score  Critic_Count  \\\n",
       "0      3.77         8.45         82.53     76.000000     51.000000   \n",
       "1      6.81         0.77         40.24     68.997119     26.440992   \n",
       "2      3.79         3.29         35.52     82.000000     73.000000   \n",
       "3      3.28         2.95         32.77     80.000000     73.000000   \n",
       "4     10.22         1.00         31.37     68.997119     26.440992   \n",
       "5      4.22         0.58         30.26     68.997119     26.440992   \n",
       "6      6.50         2.88         29.80     89.000000     65.000000   \n",
       "7      2.93         2.84         28.92     58.000000     41.000000   \n",
       "8      4.70         2.24         28.32     87.000000     80.000000   \n",
       "9      0.28         0.47         28.31     68.997119     26.440992   \n",
       "\n",
       "   User_Score  User_Count    Developer    Rating  \n",
       "0   77.000000  322.000000  1008.000000  1.000000  \n",
       "1   74.727254  163.008846   835.050081  3.558616  \n",
       "2   80.000000  709.000000  1008.000000  1.000000  \n",
       "3   77.000000  192.000000  1008.000000  1.000000  \n",
       "4   74.727254  163.008846   835.050081  3.558616  \n",
       "5   74.727254  163.008846   835.050081  3.558616  \n",
       "6   82.000000  431.000000  1008.000000  1.000000  \n",
       "7   63.000000  129.000000  1008.000000  1.000000  \n",
       "8   81.000000  594.000000  1008.000000  1.000000  \n",
       "9   74.727254  163.008846   835.050081  3.558616  "
      ]
     },
     "execution_count": 37,
     "metadata": {},
     "output_type": "execute_result"
    }
   ],
   "source": [
    "#test that the data came in and looks like I want it to\n",
    "data.head(10)"
   ]
  },
  {
   "cell_type": "code",
   "execution_count": 38,
   "id": "2b29ffb4",
   "metadata": {},
   "outputs": [
    {
     "name": "stdout",
     "output_type": "stream",
     "text": [
      "<class 'pandas.core.frame.DataFrame'>\n",
      "RangeIndex: 16416 entries, 0 to 16415\n",
      "Data columns (total 16 columns):\n",
      " #   Column           Non-Null Count  Dtype  \n",
      "---  ------           --------------  -----  \n",
      " 0   Name             16416 non-null  float64\n",
      " 1   Platform         16416 non-null  float64\n",
      " 2   Year_of_Release  16416 non-null  float64\n",
      " 3   Genre            16416 non-null  float64\n",
      " 4   Publisher        16416 non-null  float64\n",
      " 5   NA_Sales         16416 non-null  float64\n",
      " 6   EU_Sales         16416 non-null  float64\n",
      " 7   JP_Sales         16416 non-null  float64\n",
      " 8   Other_Sales      16416 non-null  float64\n",
      " 9   Global_Sales     16416 non-null  float64\n",
      " 10  Critic_Score     16416 non-null  float64\n",
      " 11  Critic_Count     16416 non-null  float64\n",
      " 12  User_Score       16416 non-null  float64\n",
      " 13  User_Count       16416 non-null  float64\n",
      " 14  Developer        16416 non-null  float64\n",
      " 15  Rating           16416 non-null  float64\n",
      "dtypes: float64(16)\n",
      "memory usage: 2.0 MB\n"
     ]
    }
   ],
   "source": [
    "data.info()"
   ]
  },
  {
   "cell_type": "code",
   "execution_count": 39,
   "id": "e789e832",
   "metadata": {},
   "outputs": [],
   "source": [
    "#Before going further I decided to slice out just the columns I will need to make it a little easier to work with\n",
    "#data = data[['pclass', 'sex', 'age','sibsp','survived']] \n",
    "#data.head(10)"
   ]
  },
  {
   "cell_type": "code",
   "execution_count": 40,
   "id": "67a28cde",
   "metadata": {},
   "outputs": [
    {
     "data": {
      "text/html": [
       "<div>\n",
       "<style scoped>\n",
       "    .dataframe tbody tr th:only-of-type {\n",
       "        vertical-align: middle;\n",
       "    }\n",
       "\n",
       "    .dataframe tbody tr th {\n",
       "        vertical-align: top;\n",
       "    }\n",
       "\n",
       "    .dataframe thead th {\n",
       "        text-align: right;\n",
       "    }\n",
       "</style>\n",
       "<table border=\"1\" class=\"dataframe\">\n",
       "  <thead>\n",
       "    <tr style=\"text-align: right;\">\n",
       "      <th></th>\n",
       "      <th>Name</th>\n",
       "      <th>Platform</th>\n",
       "      <th>Year_of_Release</th>\n",
       "      <th>Genre</th>\n",
       "      <th>Publisher</th>\n",
       "      <th>NA_Sales</th>\n",
       "      <th>EU_Sales</th>\n",
       "      <th>JP_Sales</th>\n",
       "      <th>Other_Sales</th>\n",
       "      <th>Global_Sales</th>\n",
       "      <th>Critic_Score</th>\n",
       "      <th>Critic_Count</th>\n",
       "      <th>User_Score</th>\n",
       "      <th>User_Count</th>\n",
       "      <th>Developer</th>\n",
       "      <th>Rating</th>\n",
       "    </tr>\n",
       "  </thead>\n",
       "  <tbody>\n",
       "    <tr>\n",
       "      <th>0</th>\n",
       "      <td>10919.0</td>\n",
       "      <td>26.0</td>\n",
       "      <td>2006.0</td>\n",
       "      <td>10.0</td>\n",
       "      <td>361.0</td>\n",
       "      <td>41.36</td>\n",
       "      <td>28.96</td>\n",
       "      <td>3.77</td>\n",
       "      <td>8.45</td>\n",
       "      <td>82.53</td>\n",
       "      <td>76.000000</td>\n",
       "      <td>51.000000</td>\n",
       "      <td>77.000000</td>\n",
       "      <td>322.000000</td>\n",
       "      <td>1008.000000</td>\n",
       "      <td>1.000000</td>\n",
       "    </tr>\n",
       "    <tr>\n",
       "      <th>1</th>\n",
       "      <td>9265.0</td>\n",
       "      <td>11.0</td>\n",
       "      <td>1985.0</td>\n",
       "      <td>4.0</td>\n",
       "      <td>361.0</td>\n",
       "      <td>29.08</td>\n",
       "      <td>3.58</td>\n",
       "      <td>6.81</td>\n",
       "      <td>0.77</td>\n",
       "      <td>40.24</td>\n",
       "      <td>68.997119</td>\n",
       "      <td>26.440992</td>\n",
       "      <td>74.727254</td>\n",
       "      <td>163.008846</td>\n",
       "      <td>835.050081</td>\n",
       "      <td>3.558616</td>\n",
       "    </tr>\n",
       "    <tr>\n",
       "      <th>2</th>\n",
       "      <td>5534.0</td>\n",
       "      <td>26.0</td>\n",
       "      <td>2008.0</td>\n",
       "      <td>6.0</td>\n",
       "      <td>361.0</td>\n",
       "      <td>15.68</td>\n",
       "      <td>12.76</td>\n",
       "      <td>3.79</td>\n",
       "      <td>3.29</td>\n",
       "      <td>35.52</td>\n",
       "      <td>82.000000</td>\n",
       "      <td>73.000000</td>\n",
       "      <td>80.000000</td>\n",
       "      <td>709.000000</td>\n",
       "      <td>1008.000000</td>\n",
       "      <td>1.000000</td>\n",
       "    </tr>\n",
       "    <tr>\n",
       "      <th>3</th>\n",
       "      <td>10921.0</td>\n",
       "      <td>26.0</td>\n",
       "      <td>2009.0</td>\n",
       "      <td>10.0</td>\n",
       "      <td>361.0</td>\n",
       "      <td>15.61</td>\n",
       "      <td>10.93</td>\n",
       "      <td>3.28</td>\n",
       "      <td>2.95</td>\n",
       "      <td>32.77</td>\n",
       "      <td>80.000000</td>\n",
       "      <td>73.000000</td>\n",
       "      <td>77.000000</td>\n",
       "      <td>192.000000</td>\n",
       "      <td>1008.000000</td>\n",
       "      <td>1.000000</td>\n",
       "    </tr>\n",
       "    <tr>\n",
       "      <th>4</th>\n",
       "      <td>7294.0</td>\n",
       "      <td>5.0</td>\n",
       "      <td>1996.0</td>\n",
       "      <td>7.0</td>\n",
       "      <td>361.0</td>\n",
       "      <td>11.27</td>\n",
       "      <td>8.89</td>\n",
       "      <td>10.22</td>\n",
       "      <td>1.00</td>\n",
       "      <td>31.37</td>\n",
       "      <td>68.997119</td>\n",
       "      <td>26.440992</td>\n",
       "      <td>74.727254</td>\n",
       "      <td>163.008846</td>\n",
       "      <td>835.050081</td>\n",
       "      <td>3.558616</td>\n",
       "    </tr>\n",
       "    <tr>\n",
       "      <th>5</th>\n",
       "      <td>9646.0</td>\n",
       "      <td>5.0</td>\n",
       "      <td>1989.0</td>\n",
       "      <td>5.0</td>\n",
       "      <td>361.0</td>\n",
       "      <td>23.20</td>\n",
       "      <td>2.26</td>\n",
       "      <td>4.22</td>\n",
       "      <td>0.58</td>\n",
       "      <td>30.26</td>\n",
       "      <td>68.997119</td>\n",
       "      <td>26.440992</td>\n",
       "      <td>74.727254</td>\n",
       "      <td>163.008846</td>\n",
       "      <td>835.050081</td>\n",
       "      <td>3.558616</td>\n",
       "    </tr>\n",
       "    <tr>\n",
       "      <th>6</th>\n",
       "      <td>6677.0</td>\n",
       "      <td>4.0</td>\n",
       "      <td>2006.0</td>\n",
       "      <td>4.0</td>\n",
       "      <td>361.0</td>\n",
       "      <td>11.28</td>\n",
       "      <td>9.14</td>\n",
       "      <td>6.50</td>\n",
       "      <td>2.88</td>\n",
       "      <td>29.80</td>\n",
       "      <td>89.000000</td>\n",
       "      <td>65.000000</td>\n",
       "      <td>82.000000</td>\n",
       "      <td>431.000000</td>\n",
       "      <td>1008.000000</td>\n",
       "      <td>1.000000</td>\n",
       "    </tr>\n",
       "    <tr>\n",
       "      <th>7</th>\n",
       "      <td>10917.0</td>\n",
       "      <td>26.0</td>\n",
       "      <td>2006.0</td>\n",
       "      <td>3.0</td>\n",
       "      <td>361.0</td>\n",
       "      <td>13.96</td>\n",
       "      <td>9.18</td>\n",
       "      <td>2.93</td>\n",
       "      <td>2.84</td>\n",
       "      <td>28.92</td>\n",
       "      <td>58.000000</td>\n",
       "      <td>41.000000</td>\n",
       "      <td>63.000000</td>\n",
       "      <td>129.000000</td>\n",
       "      <td>1008.000000</td>\n",
       "      <td>1.000000</td>\n",
       "    </tr>\n",
       "    <tr>\n",
       "      <th>8</th>\n",
       "      <td>6680.0</td>\n",
       "      <td>26.0</td>\n",
       "      <td>2009.0</td>\n",
       "      <td>4.0</td>\n",
       "      <td>361.0</td>\n",
       "      <td>14.44</td>\n",
       "      <td>6.94</td>\n",
       "      <td>4.70</td>\n",
       "      <td>2.24</td>\n",
       "      <td>28.32</td>\n",
       "      <td>87.000000</td>\n",
       "      <td>80.000000</td>\n",
       "      <td>81.000000</td>\n",
       "      <td>594.000000</td>\n",
       "      <td>1008.000000</td>\n",
       "      <td>1.000000</td>\n",
       "    </tr>\n",
       "    <tr>\n",
       "      <th>9</th>\n",
       "      <td>2566.0</td>\n",
       "      <td>11.0</td>\n",
       "      <td>1984.0</td>\n",
       "      <td>8.0</td>\n",
       "      <td>361.0</td>\n",
       "      <td>26.93</td>\n",
       "      <td>0.63</td>\n",
       "      <td>0.28</td>\n",
       "      <td>0.47</td>\n",
       "      <td>28.31</td>\n",
       "      <td>68.997119</td>\n",
       "      <td>26.440992</td>\n",
       "      <td>74.727254</td>\n",
       "      <td>163.008846</td>\n",
       "      <td>835.050081</td>\n",
       "      <td>3.558616</td>\n",
       "    </tr>\n",
       "  </tbody>\n",
       "</table>\n",
       "</div>"
      ],
      "text/plain": [
       "      Name  Platform  Year_of_Release  Genre  Publisher  NA_Sales  EU_Sales  \\\n",
       "0  10919.0      26.0           2006.0   10.0      361.0     41.36     28.96   \n",
       "1   9265.0      11.0           1985.0    4.0      361.0     29.08      3.58   \n",
       "2   5534.0      26.0           2008.0    6.0      361.0     15.68     12.76   \n",
       "3  10921.0      26.0           2009.0   10.0      361.0     15.61     10.93   \n",
       "4   7294.0       5.0           1996.0    7.0      361.0     11.27      8.89   \n",
       "5   9646.0       5.0           1989.0    5.0      361.0     23.20      2.26   \n",
       "6   6677.0       4.0           2006.0    4.0      361.0     11.28      9.14   \n",
       "7  10917.0      26.0           2006.0    3.0      361.0     13.96      9.18   \n",
       "8   6680.0      26.0           2009.0    4.0      361.0     14.44      6.94   \n",
       "9   2566.0      11.0           1984.0    8.0      361.0     26.93      0.63   \n",
       "\n",
       "   JP_Sales  Other_Sales  Global_Sales  Critic_Score  Critic_Count  \\\n",
       "0      3.77         8.45         82.53     76.000000     51.000000   \n",
       "1      6.81         0.77         40.24     68.997119     26.440992   \n",
       "2      3.79         3.29         35.52     82.000000     73.000000   \n",
       "3      3.28         2.95         32.77     80.000000     73.000000   \n",
       "4     10.22         1.00         31.37     68.997119     26.440992   \n",
       "5      4.22         0.58         30.26     68.997119     26.440992   \n",
       "6      6.50         2.88         29.80     89.000000     65.000000   \n",
       "7      2.93         2.84         28.92     58.000000     41.000000   \n",
       "8      4.70         2.24         28.32     87.000000     80.000000   \n",
       "9      0.28         0.47         28.31     68.997119     26.440992   \n",
       "\n",
       "   User_Score  User_Count    Developer    Rating  \n",
       "0   77.000000  322.000000  1008.000000  1.000000  \n",
       "1   74.727254  163.008846   835.050081  3.558616  \n",
       "2   80.000000  709.000000  1008.000000  1.000000  \n",
       "3   77.000000  192.000000  1008.000000  1.000000  \n",
       "4   74.727254  163.008846   835.050081  3.558616  \n",
       "5   74.727254  163.008846   835.050081  3.558616  \n",
       "6   82.000000  431.000000  1008.000000  1.000000  \n",
       "7   63.000000  129.000000  1008.000000  1.000000  \n",
       "8   81.000000  594.000000  1008.000000  1.000000  \n",
       "9   74.727254  163.008846   835.050081  3.558616  "
      ]
     },
     "execution_count": 40,
     "metadata": {},
     "output_type": "execute_result"
    }
   ],
   "source": [
    "data.head(10)\n",
    "\n"
   ]
  },
  {
   "cell_type": "code",
   "execution_count": 73,
   "id": "67f94f7a",
   "metadata": {},
   "outputs": [],
   "source": [
    "#using scikit I will split the data into test and train sets\n",
    "#I found this function at https://scikit-learn.org/stable/modules/generated/sklearn.model_selection.train_test_split.html\n",
    "x = data[['Name', 'Platform', 'Year_of_Release','Genre','Publisher','Critic_Score','User_Score','User_Count','Developer','Rating']] \n",
    "y = data[['NA_Sales','JP_Sales', 'Other_Sales','EU_Sales','Global_Sales']]\n",
    "\n"
   ]
  },
  {
   "cell_type": "code",
   "execution_count": 74,
   "id": "d62096c7",
   "metadata": {},
   "outputs": [
    {
     "data": {
      "text/html": [
       "<div>\n",
       "<style scoped>\n",
       "    .dataframe tbody tr th:only-of-type {\n",
       "        vertical-align: middle;\n",
       "    }\n",
       "\n",
       "    .dataframe tbody tr th {\n",
       "        vertical-align: top;\n",
       "    }\n",
       "\n",
       "    .dataframe thead th {\n",
       "        text-align: right;\n",
       "    }\n",
       "</style>\n",
       "<table border=\"1\" class=\"dataframe\">\n",
       "  <thead>\n",
       "    <tr style=\"text-align: right;\">\n",
       "      <th></th>\n",
       "      <th>Name</th>\n",
       "      <th>Platform</th>\n",
       "      <th>Year_of_Release</th>\n",
       "      <th>Genre</th>\n",
       "      <th>Publisher</th>\n",
       "      <th>Critic_Score</th>\n",
       "      <th>User_Score</th>\n",
       "      <th>User_Count</th>\n",
       "      <th>Developer</th>\n",
       "      <th>Rating</th>\n",
       "    </tr>\n",
       "  </thead>\n",
       "  <tbody>\n",
       "    <tr>\n",
       "      <th>0</th>\n",
       "      <td>10919.0</td>\n",
       "      <td>26.0</td>\n",
       "      <td>2006.0</td>\n",
       "      <td>10.0</td>\n",
       "      <td>361.0</td>\n",
       "      <td>76.000000</td>\n",
       "      <td>77.000000</td>\n",
       "      <td>322.000000</td>\n",
       "      <td>1008.000000</td>\n",
       "      <td>1.000000</td>\n",
       "    </tr>\n",
       "    <tr>\n",
       "      <th>1</th>\n",
       "      <td>9265.0</td>\n",
       "      <td>11.0</td>\n",
       "      <td>1985.0</td>\n",
       "      <td>4.0</td>\n",
       "      <td>361.0</td>\n",
       "      <td>68.997119</td>\n",
       "      <td>74.727254</td>\n",
       "      <td>163.008846</td>\n",
       "      <td>835.050081</td>\n",
       "      <td>3.558616</td>\n",
       "    </tr>\n",
       "    <tr>\n",
       "      <th>2</th>\n",
       "      <td>5534.0</td>\n",
       "      <td>26.0</td>\n",
       "      <td>2008.0</td>\n",
       "      <td>6.0</td>\n",
       "      <td>361.0</td>\n",
       "      <td>82.000000</td>\n",
       "      <td>80.000000</td>\n",
       "      <td>709.000000</td>\n",
       "      <td>1008.000000</td>\n",
       "      <td>1.000000</td>\n",
       "    </tr>\n",
       "    <tr>\n",
       "      <th>3</th>\n",
       "      <td>10921.0</td>\n",
       "      <td>26.0</td>\n",
       "      <td>2009.0</td>\n",
       "      <td>10.0</td>\n",
       "      <td>361.0</td>\n",
       "      <td>80.000000</td>\n",
       "      <td>77.000000</td>\n",
       "      <td>192.000000</td>\n",
       "      <td>1008.000000</td>\n",
       "      <td>1.000000</td>\n",
       "    </tr>\n",
       "    <tr>\n",
       "      <th>4</th>\n",
       "      <td>7294.0</td>\n",
       "      <td>5.0</td>\n",
       "      <td>1996.0</td>\n",
       "      <td>7.0</td>\n",
       "      <td>361.0</td>\n",
       "      <td>68.997119</td>\n",
       "      <td>74.727254</td>\n",
       "      <td>163.008846</td>\n",
       "      <td>835.050081</td>\n",
       "      <td>3.558616</td>\n",
       "    </tr>\n",
       "  </tbody>\n",
       "</table>\n",
       "</div>"
      ],
      "text/plain": [
       "      Name  Platform  Year_of_Release  Genre  Publisher  Critic_Score  \\\n",
       "0  10919.0      26.0           2006.0   10.0      361.0     76.000000   \n",
       "1   9265.0      11.0           1985.0    4.0      361.0     68.997119   \n",
       "2   5534.0      26.0           2008.0    6.0      361.0     82.000000   \n",
       "3  10921.0      26.0           2009.0   10.0      361.0     80.000000   \n",
       "4   7294.0       5.0           1996.0    7.0      361.0     68.997119   \n",
       "\n",
       "   User_Score  User_Count    Developer    Rating  \n",
       "0   77.000000  322.000000  1008.000000  1.000000  \n",
       "1   74.727254  163.008846   835.050081  3.558616  \n",
       "2   80.000000  709.000000  1008.000000  1.000000  \n",
       "3   77.000000  192.000000  1008.000000  1.000000  \n",
       "4   74.727254  163.008846   835.050081  3.558616  "
      ]
     },
     "execution_count": 74,
     "metadata": {},
     "output_type": "execute_result"
    }
   ],
   "source": [
    "x.head()"
   ]
  },
  {
   "cell_type": "code",
   "execution_count": 75,
   "id": "a99145a6",
   "metadata": {},
   "outputs": [
    {
     "data": {
      "text/html": [
       "<div>\n",
       "<style scoped>\n",
       "    .dataframe tbody tr th:only-of-type {\n",
       "        vertical-align: middle;\n",
       "    }\n",
       "\n",
       "    .dataframe tbody tr th {\n",
       "        vertical-align: top;\n",
       "    }\n",
       "\n",
       "    .dataframe thead th {\n",
       "        text-align: right;\n",
       "    }\n",
       "</style>\n",
       "<table border=\"1\" class=\"dataframe\">\n",
       "  <thead>\n",
       "    <tr style=\"text-align: right;\">\n",
       "      <th></th>\n",
       "      <th>NA_Sales</th>\n",
       "      <th>JP_Sales</th>\n",
       "      <th>Other_Sales</th>\n",
       "      <th>EU_Sales</th>\n",
       "      <th>Global_Sales</th>\n",
       "    </tr>\n",
       "  </thead>\n",
       "  <tbody>\n",
       "    <tr>\n",
       "      <th>0</th>\n",
       "      <td>41.36</td>\n",
       "      <td>3.77</td>\n",
       "      <td>8.45</td>\n",
       "      <td>28.96</td>\n",
       "      <td>82.53</td>\n",
       "    </tr>\n",
       "    <tr>\n",
       "      <th>1</th>\n",
       "      <td>29.08</td>\n",
       "      <td>6.81</td>\n",
       "      <td>0.77</td>\n",
       "      <td>3.58</td>\n",
       "      <td>40.24</td>\n",
       "    </tr>\n",
       "    <tr>\n",
       "      <th>2</th>\n",
       "      <td>15.68</td>\n",
       "      <td>3.79</td>\n",
       "      <td>3.29</td>\n",
       "      <td>12.76</td>\n",
       "      <td>35.52</td>\n",
       "    </tr>\n",
       "    <tr>\n",
       "      <th>3</th>\n",
       "      <td>15.61</td>\n",
       "      <td>3.28</td>\n",
       "      <td>2.95</td>\n",
       "      <td>10.93</td>\n",
       "      <td>32.77</td>\n",
       "    </tr>\n",
       "    <tr>\n",
       "      <th>4</th>\n",
       "      <td>11.27</td>\n",
       "      <td>10.22</td>\n",
       "      <td>1.00</td>\n",
       "      <td>8.89</td>\n",
       "      <td>31.37</td>\n",
       "    </tr>\n",
       "  </tbody>\n",
       "</table>\n",
       "</div>"
      ],
      "text/plain": [
       "   NA_Sales  JP_Sales  Other_Sales  EU_Sales  Global_Sales\n",
       "0     41.36      3.77         8.45     28.96         82.53\n",
       "1     29.08      6.81         0.77      3.58         40.24\n",
       "2     15.68      3.79         3.29     12.76         35.52\n",
       "3     15.61      3.28         2.95     10.93         32.77\n",
       "4     11.27     10.22         1.00      8.89         31.37"
      ]
     },
     "execution_count": 75,
     "metadata": {},
     "output_type": "execute_result"
    }
   ],
   "source": [
    "y.head()"
   ]
  },
  {
   "cell_type": "code",
   "execution_count": null,
   "id": "90d73c57",
   "metadata": {},
   "outputs": [],
   "source": []
  },
  {
   "cell_type": "code",
   "execution_count": 76,
   "id": "6ee74843",
   "metadata": {},
   "outputs": [
    {
     "data": {
      "text/plain": [
       "count    16416.000000\n",
       "mean         0.264129\n",
       "std          0.819028\n",
       "min          0.000000\n",
       "25%          0.000000\n",
       "50%          0.080000\n",
       "75%          0.240000\n",
       "max         41.360000\n",
       "Name: NA_Sales, dtype: float64"
      ]
     },
     "execution_count": 76,
     "metadata": {},
     "output_type": "execute_result"
    }
   ],
   "source": [
    "data['NA_Sales'].describe()"
   ]
  },
  {
   "cell_type": "code",
   "execution_count": 67,
   "id": "08f3dc8d",
   "metadata": {},
   "outputs": [
    {
     "data": {
      "text/plain": [
       "<AxesSubplot:xlabel='Global Sales', ylabel='Count'>"
      ]
     },
     "execution_count": 67,
     "metadata": {},
     "output_type": "execute_result"
    },
    {
     "data": {
      "image/png": "[encoded data removed]",
      "text/plain": [
       "<Figure size 1200x500 with 1 Axes>"
      ]
     },
     "metadata": {},
     "output_type": "display_data"
    }
   ],
   "source": [
    "'''bin_sales = [0,.01,.06,.17,.47,1,5,50,75,100]\n",
    "#bin_sales = [0,.5,1,5,10,20,50,75,100]\n",
    "y = data['Global_Sales']\n",
    "bin_labels = [f\"< ${c}M\" for c in bin_sales][1:] \n",
    "y = pd.cut(y, bins = bin_sales, labels = bin_labels)\n",
    "y_var = pd.Series(y, name = \"Global Sales\")\n",
    "\n",
    "sns.set(rc={\"figure.figsize\":(12, 5)})\n",
    "\n",
    "sns.histplot(data = y_var, kde=True)'''"
   ]
  },
  {
   "cell_type": "code",
   "execution_count": 77,
   "id": "49b167f9",
   "metadata": {},
   "outputs": [
    {
     "name": "stdout",
     "output_type": "stream",
     "text": [
      "0        82.53\n",
      "1        40.24\n",
      "2        35.52\n",
      "3        32.77\n",
      "4        31.37\n",
      "         ...  \n",
      "16411     0.01\n",
      "16412     0.01\n",
      "16413     0.01\n",
      "16414     0.01\n",
      "16415     0.01\n",
      "Name: Global_Sales, Length: 16416, dtype: float64\n"
     ]
    }
   ],
   "source": [
    "bin_sales_NA = [float('-inf'),0, 0.001, 0.5,0.6,0.8,2,5,10,100]\n",
    "bin_sales_EU = [float('-inf'),0, 0.001, 0.5,0.6,0.8,2,5,10,100]\n",
    "bin_sales_Other = [float('-inf'),0, 0.001, 0.5,0.6,0.8,2,5,10,100]\n",
    "bin_sales_Global = [float('-inf'),0, 0.001, 0.5,0.6,0.8,2,5,10,100]\n",
    "bin_sales_JP = [float('-inf'),0, 0.001, 0.01,0.06,0.1,.5,10,100]\n",
    "\n",
    "print(data['Global_Sales'])"
   ]
  },
  {
   "cell_type": "code",
   "execution_count": 170,
   "id": "df0c17c8",
   "metadata": {},
   "outputs": [],
   "source": [
    "x_train, x_test, y_train, y_test = train_test_split(x, y, test_size=0.10, random_state=10)\n",
    "\n",
    "bin_labels_NA = [f\"< ${c}M\" for c in bin_sales_NA][1:]\n",
    "bin_labels_JP = [f\"< ${c}M\" for c in bin_sales_JP][1:]\n",
    "bin_labels_EU = [f\"< ${c}M\" for c in bin_sales_EU][1:]\n",
    "bin_labels_Other = [f\"< ${c}M\" for c in bin_sales_Other][1:]\n",
    "bin_labels_Global = [f\"< ${c}M\" for c in bin_sales_Global][1:]\n",
    "\n",
    "y_train_NA = pd.cut(y_train['NA_Sales'], bins = bin_sales_NA, labels = bin_labels_NA)\n",
    "y_train_JP = pd.cut(y_train['JP_Sales'], bins = bin_sales_JP, labels = bin_labels_JP)\n",
    "y_train_EU = pd.cut(y_train['EU_Sales'], bins = bin_sales_EU, labels = bin_labels_EU)\n",
    "y_train_Other = pd.cut(y_train['Other_Sales'], bins = bin_sales_Other, labels = bin_labels_Other)\n",
    "y_train_Global = pd.cut(y_train['Global_Sales'], bins = bin_sales_Global, labels = bin_labels_Global)\n",
    "\n",
    "y_test_NA = pd.cut(y_test['NA_Sales'], bins = bin_sales_NA, labels = bin_labels_NA)\n",
    "y_test_JP = pd.cut(y_test['JP_Sales'], bins = bin_sales_JP, labels = bin_labels_JP)\n",
    "y_test_EU = pd.cut(y_test['EU_Sales'], bins = bin_sales_EU, labels = bin_labels_EU)\n",
    "y_test_Other = pd.cut(y_test['Other_Sales'], bins = bin_sales_Other, labels = bin_labels_Other)\n",
    "y_test_Global = pd.cut(y_test['Global_Sales'], bins = bin_sales_Global, labels = bin_labels_Global)\n",
    "\n"
   ]
  },
  {
   "cell_type": "code",
   "execution_count": 171,
   "id": "12014933",
   "metadata": {},
   "outputs": [
    {
     "name": "stdout",
     "output_type": "stream",
     "text": [
      "x_train size: 14774  x_test size: 1642\n",
      "y_train size: 14774  y_test size: 1642\n"
     ]
    }
   ],
   "source": [
    "  #check to make sure we have a 80/20 split\n",
    "print(\"x_train size: \" + str(len(x_train)) + \"  x_test size: \" + str(len(x_test)))\n",
    "print(\"y_train size: \" + str(len(y_train)) + \"  y_test size: \" + str(len(y_test)))"
   ]
  },
  {
   "cell_type": "markdown",
   "id": "1595d8fa",
   "metadata": {},
   "source": [
    "I now want to make sure this function gave me the correct split and left the same samples associated with the correct indices, and it looks like it did."
   ]
  },
  {
   "cell_type": "code",
   "execution_count": 172,
   "id": "fc42510a",
   "metadata": {},
   "outputs": [
    {
     "name": "stdout",
     "output_type": "stream",
     "text": [
      "       NA_Sales  JP_Sales  Other_Sales  EU_Sales  Global_Sales\n",
      "10447      0.08      0.00         0.00      0.02          0.10\n",
      "3224       0.56      0.00         0.05      0.00          0.61\n",
      "12121      0.06      0.00         0.00      0.00          0.06\n",
      "8338       0.12      0.00         0.00      0.04          0.16\n",
      "5693       0.00      0.29         0.02      0.00          0.31\n",
      "...         ...       ...          ...       ...           ...\n",
      "4829       0.29      0.00         0.01      0.08          0.39\n",
      "10201      0.06      0.00         0.01      0.04          0.11\n",
      "9372       0.00      0.13         0.00      0.00          0.13\n",
      "7291       0.11      0.00         0.03      0.07          0.21\n",
      "7293       0.00      0.20         0.01      0.00          0.21\n",
      "\n",
      "[14774 rows x 5 columns]\n"
     ]
    }
   ],
   "source": [
    "print(y_train)"
   ]
  },
  {
   "cell_type": "code",
   "execution_count": 173,
   "id": "d6978d6b",
   "metadata": {},
   "outputs": [
    {
     "name": "stdout",
     "output_type": "stream",
     "text": [
      "         Name  Platform  Year_of_Release  Genre  Publisher  Critic_Score  \\\n",
      "10447  4485.0      10.0           1998.0    3.0      186.0     68.997119   \n",
      "3224   6302.0      17.0           2008.0   10.0      496.0     82.000000   \n",
      "12121  6209.0       4.0           2008.0    9.0      466.0     60.000000   \n",
      "8338   7061.0       6.0           2006.0    9.0      490.0     68.997119   \n",
      "5693   3127.0      15.0           1997.0    9.0      468.0     68.997119   \n",
      "...       ...       ...              ...    ...        ...           ...   \n",
      "4829   8142.0      29.0           2003.0   10.0      139.0     92.000000   \n",
      "10201  2129.0      15.0           1999.0   11.0      349.0     51.000000   \n",
      "9372   4592.0      16.0           2005.0    3.0      447.0     68.997119   \n",
      "7291   3373.0      17.0           2009.0    0.0      139.0     43.000000   \n",
      "7293   2974.0       6.0           2004.0    4.0      277.0     68.997119   \n",
      "\n",
      "       User_Score  User_Count    Developer    Rating  \n",
      "10447   74.727254  163.008846   835.050081  3.558616  \n",
      "3224    67.000000   37.000000  1591.000000  1.000000  \n",
      "12121   95.000000  163.008846  1421.000000  1.000000  \n",
      "8338    74.727254  163.008846   835.050081  3.558616  \n",
      "5693    74.727254  163.008846   835.050081  3.558616  \n",
      "...           ...         ...          ...       ...  \n",
      "4829    84.000000   25.000000   424.000000  1.000000  \n",
      "10201   87.000000   44.000000   154.000000  7.000000  \n",
      "9372    74.727254  163.008846   835.050081  3.558616  \n",
      "7291    45.000000   13.000000   410.000000  7.000000  \n",
      "7293    74.727254  163.008846   835.050081  3.558616  \n",
      "\n",
      "[14774 rows x 10 columns]\n"
     ]
    }
   ],
   "source": [
    "print(x_train)"
   ]
  },
  {
   "cell_type": "code",
   "execution_count": 174,
   "id": "564a22c3",
   "metadata": {},
   "outputs": [
    {
     "name": "stdout",
     "output_type": "stream",
     "text": [
      "best parameters:  {'max_leaf_nodes': 99}\n"
     ]
    }
   ],
   "source": [
    "from sklearn.model_selection import GridSearchCV\n",
    "\n",
    "parameter = {'max_leaf_nodes':range(2,100)}\n",
    "pruned_tree_NA = GridSearchCV(tree.DecisionTreeClassifier(),parameter)\n",
    "pruned_tree_NA.fit(x_train, y_train_NA)\n",
    "print(\"best parameters: \", pruned_tree_NA.best_params_)"
   ]
  },
  {
   "cell_type": "code",
   "execution_count": 175,
   "id": "eb672dba",
   "metadata": {},
   "outputs": [
    {
     "name": "stderr",
     "output_type": "stream",
     "text": [
      "C:\\Users\\Kevin\\anaconda3\\lib\\site-packages\\sklearn\\model_selection\\_split.py:676: UserWarning: The least populated class in y has only 1 members, which is less than n_splits=5.\n",
      "  warnings.warn(\n"
     ]
    },
    {
     "name": "stdout",
     "output_type": "stream",
     "text": [
      "best parameters:  {'max_leaf_nodes': 97}\n"
     ]
    }
   ],
   "source": [
    "parameter = {'max_leaf_nodes':range(2,100)}\n",
    "pruned_tree_JP = GridSearchCV(tree.DecisionTreeClassifier(),parameter)\n",
    "pruned_tree_JP.fit(x_train, y_train_JP)\n",
    "print(\"best parameters: \", pruned_tree_JP.best_params_)"
   ]
  },
  {
   "cell_type": "code",
   "execution_count": 176,
   "id": "a6600c9d",
   "metadata": {},
   "outputs": [
    {
     "name": "stderr",
     "output_type": "stream",
     "text": [
      "C:\\Users\\Kevin\\anaconda3\\lib\\site-packages\\sklearn\\model_selection\\_split.py:676: UserWarning: The least populated class in y has only 3 members, which is less than n_splits=5.\n",
      "  warnings.warn(\n"
     ]
    },
    {
     "name": "stdout",
     "output_type": "stream",
     "text": [
      "best parameters:  {'max_leaf_nodes': 91}\n"
     ]
    }
   ],
   "source": [
    "parameter = {'max_leaf_nodes':range(2,100)}\n",
    "pruned_tree_EU = GridSearchCV(tree.DecisionTreeClassifier(),parameter)\n",
    "pruned_tree_EU.fit(x_train, y_train_EU)\n",
    "print(\"best parameters: \", pruned_tree_EU.best_params_)"
   ]
  },
  {
   "cell_type": "code",
   "execution_count": 177,
   "id": "a24a1a9f",
   "metadata": {},
   "outputs": [
    {
     "name": "stderr",
     "output_type": "stream",
     "text": [
      "C:\\Users\\Kevin\\anaconda3\\lib\\site-packages\\sklearn\\model_selection\\_split.py:676: UserWarning: The least populated class in y has only 1 members, which is less than n_splits=5.\n",
      "  warnings.warn(\n"
     ]
    },
    {
     "name": "stdout",
     "output_type": "stream",
     "text": [
      "best parameters:  {'max_leaf_nodes': 66}\n"
     ]
    }
   ],
   "source": [
    "parameter = {'max_leaf_nodes':range(2,100)}\n",
    "pruned_tree_Other = GridSearchCV(tree.DecisionTreeClassifier(),parameter)\n",
    "pruned_tree_Other.fit(x_train, y_train_Other)\n",
    "print(\"best parameters: \", pruned_tree_Other.best_params_)"
   ]
  },
  {
   "cell_type": "code",
   "execution_count": 178,
   "id": "dafb72d9",
   "metadata": {},
   "outputs": [
    {
     "name": "stdout",
     "output_type": "stream",
     "text": [
      "best parameters:  {'max_leaf_nodes': 50}\n"
     ]
    }
   ],
   "source": [
    "parameter = {'max_leaf_nodes':range(2,100)}\n",
    "pruned_tree_Global = GridSearchCV(tree.DecisionTreeClassifier(),parameter)\n",
    "pruned_tree_Global.fit(x_train, y_train_Global)\n",
    "print(\"best parameters: \", pruned_tree_Global.best_params_)"
   ]
  },
  {
   "cell_type": "markdown",
   "id": "64f1a728",
   "metadata": {},
   "source": [
    "Random Forest for NA sales"
   ]
  },
  {
   "cell_type": "code",
   "execution_count": 179,
   "id": "b8c7aa7a",
   "metadata": {},
   "outputs": [
    {
     "data": {
      "text/plain": [
       "RandomForestClassifier(max_leaf_nodes=120, n_estimators=50)"
      ]
     },
     "execution_count": 179,
     "metadata": {},
     "output_type": "execute_result"
    }
   ],
   "source": [
    "random_NA = RandomForestClassifier(max_leaf_nodes = 120, n_estimators = 50)\n",
    "random_NA.fit(x_train, y_train_NA.values.ravel())  #Use ravel to format the values and avoid warning found at https://stackoverflow.com/questions/34165731/a-column-vector-y-was-passed-when-a-1d-array-was-expected"
   ]
  },
  {
   "cell_type": "code",
   "execution_count": 180,
   "id": "6d54f5b1",
   "metadata": {},
   "outputs": [],
   "source": [
    "NA_prediction = random_NA.predict(x_test)"
   ]
  },
  {
   "cell_type": "code",
   "execution_count": 181,
   "id": "ad3c48f6",
   "metadata": {},
   "outputs": [
    {
     "name": "stdout",
     "output_type": "stream",
     "text": [
      "0.7807551766138855\n"
     ]
    }
   ],
   "source": [
    "print(random_NA.score(x_test,y_test_NA))"
   ]
  },
  {
   "cell_type": "markdown",
   "id": "f130f68c",
   "metadata": {},
   "source": [
    "Random Forest JP"
   ]
  },
  {
   "cell_type": "code",
   "execution_count": 182,
   "id": "dca7effd",
   "metadata": {},
   "outputs": [
    {
     "data": {
      "text/plain": [
       "RandomForestClassifier(max_leaf_nodes=120, n_estimators=50)"
      ]
     },
     "execution_count": 182,
     "metadata": {},
     "output_type": "execute_result"
    }
   ],
   "source": [
    "random_JP = RandomForestClassifier(max_leaf_nodes = 120, n_estimators = 50)\n",
    "random_JP.fit(x_train, y_train_JP.values.ravel())"
   ]
  },
  {
   "cell_type": "code",
   "execution_count": 183,
   "id": "71156efb",
   "metadata": {},
   "outputs": [
    {
     "name": "stdout",
     "output_type": "stream",
     "text": [
      "0.7174177831912302\n"
     ]
    }
   ],
   "source": [
    "JP_prediction = random_JP.predict(x_test)\n",
    "print(random_JP.score(x_test,y_test_JP))"
   ]
  },
  {
   "cell_type": "markdown",
   "id": "06907737",
   "metadata": {},
   "source": [
    "Random Forest EU"
   ]
  },
  {
   "cell_type": "code",
   "execution_count": 184,
   "id": "5a406a9e",
   "metadata": {},
   "outputs": [
    {
     "data": {
      "text/plain": [
       "RandomForestClassifier(max_leaf_nodes=120, n_estimators=50)"
      ]
     },
     "execution_count": 184,
     "metadata": {},
     "output_type": "execute_result"
    }
   ],
   "source": [
    "random_EU = RandomForestClassifier(max_leaf_nodes = 120, n_estimators = 50)\n",
    "random_EU.fit(x_train, y_train_EU.values.ravel())"
   ]
  },
  {
   "cell_type": "code",
   "execution_count": 185,
   "id": "2be2d62b",
   "metadata": {},
   "outputs": [
    {
     "name": "stdout",
     "output_type": "stream",
     "text": [
      "0.7838002436053593\n"
     ]
    }
   ],
   "source": [
    "EU_prediction = random_EU.predict(x_test)\n",
    "print(random_EU.score(x_test,y_test_EU))"
   ]
  },
  {
   "cell_type": "markdown",
   "id": "f4b8c783",
   "metadata": {},
   "source": [
    "Random Forest Other"
   ]
  },
  {
   "cell_type": "code",
   "execution_count": 186,
   "id": "6a6a141b",
   "metadata": {},
   "outputs": [
    {
     "data": {
      "text/plain": [
       "RandomForestClassifier(max_leaf_nodes=120, n_estimators=50)"
      ]
     },
     "execution_count": 186,
     "metadata": {},
     "output_type": "execute_result"
    }
   ],
   "source": [
    "random_Other = RandomForestClassifier(max_leaf_nodes = 120, n_estimators = 50)\n",
    "random_Other.fit(x_train, y_train_Other.values.ravel())"
   ]
  },
  {
   "cell_type": "code",
   "execution_count": 187,
   "id": "fe234f1c",
   "metadata": {},
   "outputs": [
    {
     "name": "stdout",
     "output_type": "stream",
     "text": [
      "0.7941534713763703\n"
     ]
    }
   ],
   "source": [
    "Other_prediction = random_Other.predict(x_test)\n",
    "print(random_Other.score(x_test,y_test_Other))"
   ]
  },
  {
   "cell_type": "markdown",
   "id": "7a1fa7a2",
   "metadata": {},
   "source": [
    "Random Forest Global"
   ]
  },
  {
   "cell_type": "code",
   "execution_count": 197,
   "id": "758d9f82",
   "metadata": {},
   "outputs": [
    {
     "data": {
      "text/plain": [
       "RandomForestClassifier(max_leaf_nodes=120, n_estimators=50)"
      ]
     },
     "execution_count": 197,
     "metadata": {},
     "output_type": "execute_result"
    }
   ],
   "source": [
    "random_Global = RandomForestClassifier(max_leaf_nodes = 120, n_estimators = 50)\n",
    "random_Global.fit(x_train, y_train_Global.values.ravel())"
   ]
  },
  {
   "cell_type": "code",
   "execution_count": 198,
   "id": "ae6d6c5b",
   "metadata": {},
   "outputs": [
    {
     "name": "stdout",
     "output_type": "stream",
     "text": [
      "0.7904993909866017\n"
     ]
    }
   ],
   "source": [
    "Global_prediction = random_Global.predict(x_test)\n",
    "print(random_Global.score(x_test,y_test_Global))"
   ]
  },
  {
   "cell_type": "code",
   "execution_count": 207,
   "id": "c17a1df5",
   "metadata": {},
   "outputs": [
    {
     "data": {
      "text/plain": [
       "<matplotlib.legend.Legend at 0x166d51e7dc0>"
      ]
     },
     "execution_count": 207,
     "metadata": {},
     "output_type": "execute_result"
    },
    {
     "data": {
      "image/png": "[encoded data removed]",
      "text/plain": [
       "<Figure size 1200x500 with 1 Axes>"
      ]
     },
     "metadata": {},
     "output_type": "display_data"
    }
   ],
   "source": [
    "import matplotlib.pylab as plt\n",
    "\n",
    "#global sales\n",
    "bin_labels = [f\"< ${c}M\" for c in bin_sales_Global][1:] \n",
    "\n",
    "y_Global_test = pd.Series(y_test_Global, name = \"Global Sales\")\n",
    "y_Global_p = pd.Series(Global_prediction, name = \"prediction\")\n",
    "\n",
    "plt.figure(\"Global Sales\")\n",
    "sns.set(rc={\"figure.figsize\":(12, 5)})\n",
    "sns.histplot(data = y_Global_test,  fill=False, color = 'red', lw=2.5, stat = \"count\", label = \"test data\")\n",
    "sns.histplot(data = y_Global_p,  fill=False, stat = \"count\", lw=2.5, label = \"predictions\")\n",
    "plt.legend()\n",
    "\n",
    "\n",
    "\n"
   ]
  },
  {
   "cell_type": "code",
   "execution_count": 200,
   "id": "b490ba29",
   "metadata": {},
   "outputs": [
    {
     "data": {
      "text/plain": [
       "<matplotlib.legend.Legend at 0x166ce0cbbe0>"
      ]
     },
     "execution_count": 200,
     "metadata": {},
     "output_type": "execute_result"
    },
    {
     "data": {
      "image/png": "[encoded data removed]",
      "text/plain": [
       "<Figure size 1200x500 with 1 Axes>"
      ]
     },
     "metadata": {},
     "output_type": "display_data"
    }
   ],
   "source": [
    "bin_labels = [f\"< ${c}M\" for c in bin_sales_Other][1:] \n",
    "\n",
    "y_Other_test = pd.Series(y_test_Other, name = \"Other Sales\")\n",
    "y_Other_p = pd.Series(Other_prediction, name = \"prediction\")\n",
    "\n",
    "plt.figure(\"Other Sales\")\n",
    "sns.set(rc={\"figure.figsize\":(12, 5)})\n",
    "sns.histplot(data = y_Other_test,  fill=False, color = 'red', lw=2.5, stat = \"count\", label = \"test data\")\n",
    "sns.histplot(data = y_Other_p,  fill=False, stat = \"count\", lw=2.5, label = \"predictions\")\n",
    "plt.legend()\n"
   ]
  },
  {
   "cell_type": "code",
   "execution_count": 205,
   "id": "72d71914",
   "metadata": {},
   "outputs": [
    {
     "data": {
      "text/plain": [
       "<matplotlib.legend.Legend at 0x166d37fd130>"
      ]
     },
     "execution_count": 205,
     "metadata": {},
     "output_type": "execute_result"
    },
    {
     "data": {
      "image/png": "[encoded data removed]",
      "text/plain": [
       "<Figure size 1200x500 with 1 Axes>"
      ]
     },
     "metadata": {},
     "output_type": "display_data"
    }
   ],
   "source": [
    "bin_labels = [f\"< ${c}M\" for c in bin_sales_NA][1:] \n",
    "\n",
    "y_NA_test = pd.Series(y_test_NA, name = \"NA Sales\")\n",
    "y_NA_p = pd.Series(NA_prediction, name = \"prediction\")\n",
    "\n",
    "plt.figure(\"NA Sales\")\n",
    "sns.set(rc={\"figure.figsize\":(12, 5)})\n",
    "sns.histplot(data = y_NA_test,  fill=False, color = 'red', lw=2.5, stat = \"count\", label = \"test data\")\n",
    "sns.histplot(data = y_NA_p,  fill=False, stat = \"count\", lw=2.5, label = \"predictions\")\n",
    "plt.legend()\n",
    "\n"
   ]
  },
  {
   "cell_type": "code",
   "execution_count": 202,
   "id": "59c8fe83",
   "metadata": {},
   "outputs": [
    {
     "data": {
      "text/plain": [
       "<matplotlib.legend.Legend at 0x166cd746070>"
      ]
     },
     "execution_count": 202,
     "metadata": {},
     "output_type": "execute_result"
    },
    {
     "data": {
      "image/png": "[encoded data removed]",
      "text/plain": [
       "<Figure size 1200x500 with 1 Axes>"
      ]
     },
     "metadata": {},
     "output_type": "display_data"
    }
   ],
   "source": [
    "bin_labels = [f\"< ${c}M\" for c in bin_sales_JP][1:] \n",
    "\n",
    "y_JP_test = pd.Series(y_test_JP, name = \"JP Sales\")\n",
    "y_JP_p = pd.Series(JP_prediction, name = \"prediction\")\n",
    "\n",
    "plt.figure(\"JP Sales\")\n",
    "sns.set(rc={\"figure.figsize\":(12, 5)})\n",
    "sns.histplot(data = y_JP_test,  fill=False, color = 'red', lw=2.5, stat = \"count\", label = \"test data\")\n",
    "sns.histplot(data = y_JP_p,  fill=False, stat = \"count\", lw=2.5, label = \"predictions\")\n",
    "plt.legend()\n"
   ]
  },
  {
   "cell_type": "code",
   "execution_count": 203,
   "id": "8f8eb725",
   "metadata": {},
   "outputs": [
    {
     "data": {
      "text/plain": [
       "<matplotlib.legend.Legend at 0x166d36b3040>"
      ]
     },
     "execution_count": 203,
     "metadata": {},
     "output_type": "execute_result"
    },
    {
     "data": {
      "image/png": "[encoded data removed]",
      "text/plain": [
       "<Figure size 1200x500 with 1 Axes>"
      ]
     },
     "metadata": {},
     "output_type": "display_data"
    }
   ],
   "source": [
    "bin_labels = [f\"< ${c}M\" for c in bin_sales_EU][1:] \n",
    "\n",
    "y_EU_test = pd.Series(y_test_EU, name = \"EU Sales\")\n",
    "y_EU_p = pd.Series(EU_prediction, name = \"prediction\")\n",
    "\n",
    "plt.figure(\"EU Sales\")\n",
    "sns.set(rc={\"figure.figsize\":(12, 5)})\n",
    "sns.histplot(data = y_EU_test,  fill=False, color = 'red', lw=2.5, stat = \"count\", label = \"test data\")\n",
    "sns.histplot(data = y_EU_p,  fill=False, stat = \"count\", lw=2.5, label = \"predictions\")\n",
    "plt.legend()\n"
   ]
  },
  {
   "cell_type": "code",
   "execution_count": null,
   "id": "3d8da208",
   "metadata": {},
   "outputs": [],
   "source": []
  }
 ],
 "metadata": {
  "kernelspec": {
   "display_name": "Python 3 (ipykernel)",
   "language": "python",
   "name": "python3"
  },
  "language_info": {
   "codemirror_mode": {
    "name": "ipython",
    "version": 3
   },
   "file_extension": ".py",
   "mimetype": "text/x-python",
   "name": "python",
   "nbconvert_exporter": "python",
   "pygments_lexer": "ipython3",
   "version": "3.9.13"
  }
 },
 "nbformat": 4,
 "nbformat_minor": 5
}
